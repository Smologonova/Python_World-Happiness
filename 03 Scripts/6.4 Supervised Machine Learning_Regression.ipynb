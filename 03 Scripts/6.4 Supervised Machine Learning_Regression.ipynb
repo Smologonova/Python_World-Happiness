{
 "cells": [
  {
   "cell_type": "markdown",
   "id": "f75347ce",
   "metadata": {},
   "source": [
    "# Machine Learning\n",
    "\n",
    "### This script contains the following:\n",
    "\n",
    "#### 1. Importing libraries and data\n",
    "#### 2. Data cleaning\n",
    "#### 3. Data prep for regression analysis\n",
    "#### 4. Regression analysis"
   ]
  },
  {
   "cell_type": "markdown",
   "id": "0010b269",
   "metadata": {},
   "source": [
    "### 1. Importing libraries and data"
   ]
  },
  {
   "cell_type": "code",
   "execution_count": 1,
   "id": "7bbb79a0",
   "metadata": {},
   "outputs": [],
   "source": [
    "import pandas as pd\n",
    "import numpy as np\n",
    "import seaborn as sns\n",
    "import matplotlib\n",
    "import matplotlib.pyplot as plt\n",
    "import os\n",
    "import sklearn\n",
    "from sklearn.model_selection import train_test_split \n",
    "from sklearn.linear_model import LinearRegression\n",
    "from sklearn.metrics import mean_squared_error, r2_score"
   ]
  },
  {
   "cell_type": "code",
   "execution_count": 2,
   "id": "82c25d5c",
   "metadata": {},
   "outputs": [],
   "source": [
    "# This option ensures that the graphs you create are displayed within the notebook without the need to \"call\" them specifically.\n",
    "\n",
    "%matplotlib inline"
   ]
  },
  {
   "cell_type": "code",
   "execution_count": 3,
   "id": "a46834de",
   "metadata": {},
   "outputs": [],
   "source": [
    "# Define path\n",
    "\n",
    "path = 'C:/Users/iryna/Documents/Data analytics/Career foundry/6. Advanced Analytics & Dashboard Design/09-2022 World Happiness Analysis'"
   ]
  },
  {
   "cell_type": "code",
   "execution_count": 4,
   "id": "b1c36dbb",
   "metadata": {},
   "outputs": [],
   "source": [
    "# Import data\n",
    "df = pd.read_csv(os.path.join(path, '02 Data', 'Prepared Data', 'hap_full_categor.csv'))"
   ]
  },
  {
   "cell_type": "code",
   "execution_count": 5,
   "id": "df02d882",
   "metadata": {},
   "outputs": [
    {
     "data": {
      "text/html": [
       "<div>\n",
       "<style scoped>\n",
       "    .dataframe tbody tr th:only-of-type {\n",
       "        vertical-align: middle;\n",
       "    }\n",
       "\n",
       "    .dataframe tbody tr th {\n",
       "        vertical-align: top;\n",
       "    }\n",
       "\n",
       "    .dataframe thead th {\n",
       "        text-align: right;\n",
       "    }\n",
       "</style>\n",
       "<table border=\"1\" class=\"dataframe\">\n",
       "  <thead>\n",
       "    <tr style=\"text-align: right;\">\n",
       "      <th></th>\n",
       "      <th>Unnamed: 0</th>\n",
       "      <th>country</th>\n",
       "      <th>region_id</th>\n",
       "      <th>region</th>\n",
       "      <th>Year</th>\n",
       "      <th>happiness_rank</th>\n",
       "      <th>happiness_score</th>\n",
       "      <th>economy_GDP_per_capita</th>\n",
       "      <th>family</th>\n",
       "      <th>health_life_expectancy</th>\n",
       "      <th>freedom</th>\n",
       "      <th>trust_government_corruption</th>\n",
       "      <th>generosity</th>\n",
       "      <th>dystopia_residual</th>\n",
       "      <th>happiness_category</th>\n",
       "    </tr>\n",
       "  </thead>\n",
       "  <tbody>\n",
       "    <tr>\n",
       "      <th>0</th>\n",
       "      <td>0</td>\n",
       "      <td>Switzerland</td>\n",
       "      <td>WE</td>\n",
       "      <td>Western Europe</td>\n",
       "      <td>2015</td>\n",
       "      <td>1</td>\n",
       "      <td>7.587</td>\n",
       "      <td>1.39651</td>\n",
       "      <td>1.34951</td>\n",
       "      <td>0.94143</td>\n",
       "      <td>0.66557</td>\n",
       "      <td>0.41978</td>\n",
       "      <td>0.29678</td>\n",
       "      <td>2.51738</td>\n",
       "      <td>high</td>\n",
       "    </tr>\n",
       "    <tr>\n",
       "      <th>1</th>\n",
       "      <td>1</td>\n",
       "      <td>Iceland</td>\n",
       "      <td>WE</td>\n",
       "      <td>Western Europe</td>\n",
       "      <td>2015</td>\n",
       "      <td>2</td>\n",
       "      <td>7.561</td>\n",
       "      <td>1.30232</td>\n",
       "      <td>1.40223</td>\n",
       "      <td>0.94784</td>\n",
       "      <td>0.62877</td>\n",
       "      <td>0.14145</td>\n",
       "      <td>0.43630</td>\n",
       "      <td>2.70201</td>\n",
       "      <td>high</td>\n",
       "    </tr>\n",
       "    <tr>\n",
       "      <th>2</th>\n",
       "      <td>2</td>\n",
       "      <td>Denmark</td>\n",
       "      <td>WE</td>\n",
       "      <td>Western Europe</td>\n",
       "      <td>2015</td>\n",
       "      <td>3</td>\n",
       "      <td>7.527</td>\n",
       "      <td>1.32548</td>\n",
       "      <td>1.36058</td>\n",
       "      <td>0.87464</td>\n",
       "      <td>0.64938</td>\n",
       "      <td>0.48357</td>\n",
       "      <td>0.34139</td>\n",
       "      <td>2.49204</td>\n",
       "      <td>high</td>\n",
       "    </tr>\n",
       "    <tr>\n",
       "      <th>3</th>\n",
       "      <td>3</td>\n",
       "      <td>Norway</td>\n",
       "      <td>WE</td>\n",
       "      <td>Western Europe</td>\n",
       "      <td>2015</td>\n",
       "      <td>4</td>\n",
       "      <td>7.522</td>\n",
       "      <td>1.45900</td>\n",
       "      <td>1.33095</td>\n",
       "      <td>0.88521</td>\n",
       "      <td>0.66973</td>\n",
       "      <td>0.36503</td>\n",
       "      <td>0.34699</td>\n",
       "      <td>2.46531</td>\n",
       "      <td>high</td>\n",
       "    </tr>\n",
       "    <tr>\n",
       "      <th>4</th>\n",
       "      <td>4</td>\n",
       "      <td>Canada</td>\n",
       "      <td>NAANZ</td>\n",
       "      <td>North America and ANZ</td>\n",
       "      <td>2015</td>\n",
       "      <td>5</td>\n",
       "      <td>7.427</td>\n",
       "      <td>1.32629</td>\n",
       "      <td>1.32261</td>\n",
       "      <td>0.90563</td>\n",
       "      <td>0.63297</td>\n",
       "      <td>0.32957</td>\n",
       "      <td>0.45811</td>\n",
       "      <td>2.45176</td>\n",
       "      <td>high</td>\n",
       "    </tr>\n",
       "    <tr>\n",
       "      <th>...</th>\n",
       "      <td>...</td>\n",
       "      <td>...</td>\n",
       "      <td>...</td>\n",
       "      <td>...</td>\n",
       "      <td>...</td>\n",
       "      <td>...</td>\n",
       "      <td>...</td>\n",
       "      <td>...</td>\n",
       "      <td>...</td>\n",
       "      <td>...</td>\n",
       "      <td>...</td>\n",
       "      <td>...</td>\n",
       "      <td>...</td>\n",
       "      <td>...</td>\n",
       "      <td>...</td>\n",
       "    </tr>\n",
       "    <tr>\n",
       "      <th>1224</th>\n",
       "      <td>1224</td>\n",
       "      <td>Botswana</td>\n",
       "      <td>SSA</td>\n",
       "      <td>Sub-Saharan Africa</td>\n",
       "      <td>2022</td>\n",
       "      <td>141</td>\n",
       "      <td>3.471</td>\n",
       "      <td>1.50300</td>\n",
       "      <td>0.81500</td>\n",
       "      <td>0.28000</td>\n",
       "      <td>0.57100</td>\n",
       "      <td>0.10200</td>\n",
       "      <td>0.01200</td>\n",
       "      <td>0.18700</td>\n",
       "      <td>low</td>\n",
       "    </tr>\n",
       "    <tr>\n",
       "      <th>1225</th>\n",
       "      <td>1225</td>\n",
       "      <td>Rwanda</td>\n",
       "      <td>SSA</td>\n",
       "      <td>Sub-Saharan Africa</td>\n",
       "      <td>2022</td>\n",
       "      <td>142</td>\n",
       "      <td>3.268</td>\n",
       "      <td>0.78500</td>\n",
       "      <td>0.13300</td>\n",
       "      <td>0.46200</td>\n",
       "      <td>0.62100</td>\n",
       "      <td>0.54400</td>\n",
       "      <td>0.18700</td>\n",
       "      <td>0.53600</td>\n",
       "      <td>low</td>\n",
       "    </tr>\n",
       "    <tr>\n",
       "      <th>1226</th>\n",
       "      <td>1226</td>\n",
       "      <td>Zimbabwe</td>\n",
       "      <td>SSA</td>\n",
       "      <td>Sub-Saharan Africa</td>\n",
       "      <td>2022</td>\n",
       "      <td>143</td>\n",
       "      <td>2.995</td>\n",
       "      <td>0.94700</td>\n",
       "      <td>0.69000</td>\n",
       "      <td>0.27000</td>\n",
       "      <td>0.32900</td>\n",
       "      <td>0.10500</td>\n",
       "      <td>0.10600</td>\n",
       "      <td>0.54800</td>\n",
       "      <td>low</td>\n",
       "    </tr>\n",
       "    <tr>\n",
       "      <th>1227</th>\n",
       "      <td>1227</td>\n",
       "      <td>Lebanon</td>\n",
       "      <td>MENA</td>\n",
       "      <td>Middle East and North Africa</td>\n",
       "      <td>2022</td>\n",
       "      <td>144</td>\n",
       "      <td>2.955</td>\n",
       "      <td>1.39200</td>\n",
       "      <td>0.49800</td>\n",
       "      <td>0.63100</td>\n",
       "      <td>0.10300</td>\n",
       "      <td>0.03400</td>\n",
       "      <td>0.08200</td>\n",
       "      <td>0.21600</td>\n",
       "      <td>low</td>\n",
       "    </tr>\n",
       "    <tr>\n",
       "      <th>1228</th>\n",
       "      <td>1228</td>\n",
       "      <td>Afghanistan</td>\n",
       "      <td>SA</td>\n",
       "      <td>South Asia</td>\n",
       "      <td>2022</td>\n",
       "      <td>145</td>\n",
       "      <td>2.404</td>\n",
       "      <td>0.75800</td>\n",
       "      <td>0.00000</td>\n",
       "      <td>0.28900</td>\n",
       "      <td>0.00000</td>\n",
       "      <td>0.00500</td>\n",
       "      <td>0.08900</td>\n",
       "      <td>1.26300</td>\n",
       "      <td>low</td>\n",
       "    </tr>\n",
       "  </tbody>\n",
       "</table>\n",
       "<p>1229 rows × 15 columns</p>\n",
       "</div>"
      ],
      "text/plain": [
       "      Unnamed: 0      country region_id                        region  Year  \\\n",
       "0              0  Switzerland        WE                Western Europe  2015   \n",
       "1              1      Iceland        WE                Western Europe  2015   \n",
       "2              2      Denmark        WE                Western Europe  2015   \n",
       "3              3       Norway        WE                Western Europe  2015   \n",
       "4              4       Canada     NAANZ         North America and ANZ  2015   \n",
       "...          ...          ...       ...                           ...   ...   \n",
       "1224        1224     Botswana       SSA            Sub-Saharan Africa  2022   \n",
       "1225        1225       Rwanda       SSA            Sub-Saharan Africa  2022   \n",
       "1226        1226     Zimbabwe       SSA            Sub-Saharan Africa  2022   \n",
       "1227        1227      Lebanon      MENA  Middle East and North Africa  2022   \n",
       "1228        1228  Afghanistan        SA                    South Asia  2022   \n",
       "\n",
       "      happiness_rank  happiness_score  economy_GDP_per_capita   family  \\\n",
       "0                  1            7.587                 1.39651  1.34951   \n",
       "1                  2            7.561                 1.30232  1.40223   \n",
       "2                  3            7.527                 1.32548  1.36058   \n",
       "3                  4            7.522                 1.45900  1.33095   \n",
       "4                  5            7.427                 1.32629  1.32261   \n",
       "...              ...              ...                     ...      ...   \n",
       "1224             141            3.471                 1.50300  0.81500   \n",
       "1225             142            3.268                 0.78500  0.13300   \n",
       "1226             143            2.995                 0.94700  0.69000   \n",
       "1227             144            2.955                 1.39200  0.49800   \n",
       "1228             145            2.404                 0.75800  0.00000   \n",
       "\n",
       "      health_life_expectancy  freedom  trust_government_corruption  \\\n",
       "0                    0.94143  0.66557                      0.41978   \n",
       "1                    0.94784  0.62877                      0.14145   \n",
       "2                    0.87464  0.64938                      0.48357   \n",
       "3                    0.88521  0.66973                      0.36503   \n",
       "4                    0.90563  0.63297                      0.32957   \n",
       "...                      ...      ...                          ...   \n",
       "1224                 0.28000  0.57100                      0.10200   \n",
       "1225                 0.46200  0.62100                      0.54400   \n",
       "1226                 0.27000  0.32900                      0.10500   \n",
       "1227                 0.63100  0.10300                      0.03400   \n",
       "1228                 0.28900  0.00000                      0.00500   \n",
       "\n",
       "      generosity  dystopia_residual happiness_category  \n",
       "0        0.29678            2.51738               high  \n",
       "1        0.43630            2.70201               high  \n",
       "2        0.34139            2.49204               high  \n",
       "3        0.34699            2.46531               high  \n",
       "4        0.45811            2.45176               high  \n",
       "...          ...                ...                ...  \n",
       "1224     0.01200            0.18700                low  \n",
       "1225     0.18700            0.53600                low  \n",
       "1226     0.10600            0.54800                low  \n",
       "1227     0.08200            0.21600                low  \n",
       "1228     0.08900            1.26300                low  \n",
       "\n",
       "[1229 rows x 15 columns]"
      ]
     },
     "execution_count": 5,
     "metadata": {},
     "output_type": "execute_result"
    }
   ],
   "source": [
    "df"
   ]
  },
  {
   "cell_type": "markdown",
   "id": "3ec46b73",
   "metadata": {},
   "source": [
    "### 2. Data cleaning"
   ]
  },
  {
   "cell_type": "code",
   "execution_count": 6,
   "id": "2ff3d055",
   "metadata": {},
   "outputs": [
    {
     "data": {
      "text/plain": [
       "Index(['Unnamed: 0', 'country', 'region_id', 'region', 'Year',\n",
       "       'happiness_rank', 'happiness_score', 'economy_GDP_per_capita', 'family',\n",
       "       'health_life_expectancy', 'freedom', 'trust_government_corruption',\n",
       "       'generosity', 'dystopia_residual', 'happiness_category'],\n",
       "      dtype='object')"
      ]
     },
     "execution_count": 6,
     "metadata": {},
     "output_type": "execute_result"
    }
   ],
   "source": [
    "df.columns"
   ]
  },
  {
   "cell_type": "code",
   "execution_count": 7,
   "id": "1b5f39f1",
   "metadata": {},
   "outputs": [],
   "source": [
    "# Drop the redundant columns\n",
    "df = df.drop(['Unnamed: 0'],axis = 1)"
   ]
  },
  {
   "cell_type": "code",
   "execution_count": 8,
   "id": "e36620c6",
   "metadata": {},
   "outputs": [
    {
     "data": {
      "text/plain": [
       "(1229, 14)"
      ]
     },
     "execution_count": 8,
     "metadata": {},
     "output_type": "execute_result"
    }
   ],
   "source": [
    "df.shape"
   ]
  },
  {
   "cell_type": "code",
   "execution_count": 9,
   "id": "38efc71d",
   "metadata": {},
   "outputs": [
    {
     "data": {
      "text/plain": [
       "country                        0\n",
       "region_id                      0\n",
       "region                         0\n",
       "Year                           0\n",
       "happiness_rank                 0\n",
       "happiness_score                0\n",
       "economy_GDP_per_capita         0\n",
       "family                         0\n",
       "health_life_expectancy         0\n",
       "freedom                        0\n",
       "trust_government_corruption    0\n",
       "generosity                     0\n",
       "dystopia_residual              0\n",
       "happiness_category             0\n",
       "dtype: int64"
      ]
     },
     "execution_count": 9,
     "metadata": {},
     "output_type": "execute_result"
    }
   ],
   "source": [
    "# check for missing values\n",
    "df.isnull().sum()"
   ]
  },
  {
   "cell_type": "code",
   "execution_count": 10,
   "id": "8279602e",
   "metadata": {},
   "outputs": [],
   "source": [
    "# check for duplicates\n",
    "dups = df.duplicated()"
   ]
  },
  {
   "cell_type": "code",
   "execution_count": 11,
   "id": "a542e97f",
   "metadata": {},
   "outputs": [
    {
     "data": {
      "text/plain": [
       "(1229,)"
      ]
     },
     "execution_count": 11,
     "metadata": {},
     "output_type": "execute_result"
    }
   ],
   "source": [
    "dups.shape"
   ]
  },
  {
   "cell_type": "markdown",
   "id": "09d5b634",
   "metadata": {},
   "source": [
    "### Extreme value check"
   ]
  },
  {
   "cell_type": "markdown",
   "id": "afadcb94",
   "metadata": {},
   "source": [
    "### Hypothesis\n",
    "#### If a country life expectancy score is higher, then the country is more likely to have a higher happiness score"
   ]
  },
  {
   "cell_type": "code",
   "execution_count": 12,
   "id": "bac3f6ea",
   "metadata": {},
   "outputs": [
    {
     "name": "stderr",
     "output_type": "stream",
     "text": [
      "C:\\Users\\iryna\\anaconda3\\lib\\site-packages\\seaborn\\distributions.py:2619: FutureWarning: `distplot` is a deprecated function and will be removed in a future version. Please adapt your code to use either `displot` (a figure-level function with similar flexibility) or `histplot` (an axes-level function for histograms).\n",
      "  warnings.warn(msg, FutureWarning)\n"
     ]
    },
    {
     "data": {
      "text/plain": [
       "<AxesSubplot:xlabel='health_life_expectancy', ylabel='Density'>"
      ]
     },
     "execution_count": 12,
     "metadata": {},
     "output_type": "execute_result"
    },
    {
     "data": {
      "image/png": "[encoded data removed]",
      "text/plain": [
       "<Figure size 432x288 with 1 Axes>"
      ]
     },
     "metadata": {
      "needs_background": "light"
     },
     "output_type": "display_data"
    }
   ],
   "source": [
    "# extreme value check\n",
    "sns.distplot(df['health_life_expectancy'], bins=30) # Shows extreme values"
   ]
  },
  {
   "cell_type": "code",
   "execution_count": 13,
   "id": "3a5ed644",
   "metadata": {},
   "outputs": [
    {
     "data": {
      "text/plain": [
       "0.6084670051749395"
      ]
     },
     "execution_count": 13,
     "metadata": {},
     "output_type": "execute_result"
    }
   ],
   "source": [
    "df['health_life_expectancy'].mean()#check for mean"
   ]
  },
  {
   "cell_type": "code",
   "execution_count": 14,
   "id": "d3679893",
   "metadata": {},
   "outputs": [
    {
     "data": {
      "text/plain": [
       "0.63952"
      ]
     },
     "execution_count": 14,
     "metadata": {},
     "output_type": "execute_result"
    }
   ],
   "source": [
    "df['health_life_expectancy'].median() #check for median"
   ]
  },
  {
   "cell_type": "code",
   "execution_count": 15,
   "id": "7a5add3f",
   "metadata": {},
   "outputs": [
    {
     "data": {
      "text/plain": [
       "1.141"
      ]
     },
     "execution_count": 15,
     "metadata": {},
     "output_type": "execute_result"
    }
   ],
   "source": [
    "df['health_life_expectancy'].max() #check for max"
   ]
  },
  {
   "cell_type": "code",
   "execution_count": 16,
   "id": "1f24d5f2",
   "metadata": {},
   "outputs": [
    {
     "data": {
      "text/plain": [
       "0.0"
      ]
     },
     "execution_count": 16,
     "metadata": {},
     "output_type": "execute_result"
    }
   ],
   "source": [
    "df['health_life_expectancy'].min() #check for min"
   ]
  },
  {
   "cell_type": "markdown",
   "id": "5729c555",
   "metadata": {},
   "source": [
    "### 3. Data prep for regression analysis"
   ]
  },
  {
   "cell_type": "code",
   "execution_count": 17,
   "id": "e33e7664",
   "metadata": {},
   "outputs": [
    {
     "data": {
      "image/png": "[encoded data removed]",
      "text/plain": [
       "<Figure size 432x288 with 1 Axes>"
      ]
     },
     "metadata": {
      "needs_background": "light"
     },
     "output_type": "display_data"
    }
   ],
   "source": [
    "# Create a scatterplot using matplotlib for another look at how the chosen variables plot against each other.\n",
    "\n",
    "df.plot(x = 'health_life_expectancy', y='happiness_score',style='o') # The style option creates a scatterplot; without it, we only have lines.\n",
    "plt.title('health_life_expectancy vs happiness_score')  \n",
    "plt.xlabel('health_life_expectancy')  \n",
    "plt.ylabel('happiness_score')  \n",
    "plt.show()"
   ]
  },
  {
   "cell_type": "code",
   "execution_count": 18,
   "id": "5c55a80d",
   "metadata": {},
   "outputs": [],
   "source": [
    "# Reshape the variables into NumPy arrays and put them into separate objects.\n",
    "\n",
    "X = df['health_life_expectancy'].values.reshape(-1,1)\n",
    "y = df['happiness_score'].values.reshape(-1,1)"
   ]
  },
  {
   "cell_type": "code",
   "execution_count": 19,
   "id": "2b3a2234",
   "metadata": {},
   "outputs": [
    {
     "data": {
      "text/plain": [
       "array([[0.94143],\n",
       "       [0.94784],\n",
       "       [0.87464],\n",
       "       ...,\n",
       "       [0.27   ],\n",
       "       [0.631  ],\n",
       "       [0.289  ]])"
      ]
     },
     "execution_count": 19,
     "metadata": {},
     "output_type": "execute_result"
    }
   ],
   "source": [
    "X"
   ]
  },
  {
   "cell_type": "code",
   "execution_count": 20,
   "id": "37dcde63",
   "metadata": {},
   "outputs": [
    {
     "data": {
      "text/plain": [
       "array([[7.587],\n",
       "       [7.561],\n",
       "       [7.527],\n",
       "       ...,\n",
       "       [2.995],\n",
       "       [2.955],\n",
       "       [2.404]])"
      ]
     },
     "execution_count": 20,
     "metadata": {},
     "output_type": "execute_result"
    }
   ],
   "source": [
    "y"
   ]
  },
  {
   "cell_type": "code",
   "execution_count": 21,
   "id": "f145b96a",
   "metadata": {},
   "outputs": [],
   "source": [
    "# Split data into a training set and a test set.\n",
    "\n",
    "X_train, X_test, y_train, y_test = train_test_split(X, y, test_size=0.3, random_state=0)"
   ]
  },
  {
   "cell_type": "markdown",
   "id": "d3e7c7d8",
   "metadata": {},
   "source": [
    "### 4. Regression analysis"
   ]
  },
  {
   "cell_type": "code",
   "execution_count": 22,
   "id": "e1380eca",
   "metadata": {},
   "outputs": [],
   "source": [
    "# Create a regression object.\n",
    "regression = LinearRegression()  # This is the regression object, which will be fit onto the training set."
   ]
  },
  {
   "cell_type": "code",
   "execution_count": 23,
   "id": "5c2ce1a3",
   "metadata": {},
   "outputs": [
    {
     "data": {
      "text/html": [
       "<style>#sk-container-id-1 {color: black;background-color: white;}#sk-container-id-1 pre{padding: 0;}#sk-container-id-1 div.sk-toggleable {background-color: white;}#sk-container-id-1 label.sk-toggleable__label {cursor: pointer;display: block;width: 100%;margin-bottom: 0;padding: 0.3em;box-sizing: border-box;text-align: center;}#sk-container-id-1 label.sk-toggleable__label-arrow:before {content: \"▸\";float: left;margin-right: 0.25em;color: #696969;}#sk-container-id-1 label.sk-toggleable__label-arrow:hover:before {color: black;}#sk-container-id-1 div.sk-estimator:hover label.sk-toggleable__label-arrow:before {color: black;}#sk-container-id-1 div.sk-toggleable__content {max-height: 0;max-width: 0;overflow: hidden;text-align: left;background-color: #f0f8ff;}#sk-container-id-1 div.sk-toggleable__content pre {margin: 0.2em;color: black;border-radius: 0.25em;background-color: #f0f8ff;}#sk-container-id-1 input.sk-toggleable__control:checked~div.sk-toggleable__content {max-height: 200px;max-width: 100%;overflow: auto;}#sk-container-id-1 input.sk-toggleable__control:checked~label.sk-toggleable__label-arrow:before {content: \"▾\";}#sk-container-id-1 div.sk-estimator input.sk-toggleable__control:checked~label.sk-toggleable__label {background-color: #d4ebff;}#sk-container-id-1 div.sk-label input.sk-toggleable__control:checked~label.sk-toggleable__label {background-color: #d4ebff;}#sk-container-id-1 input.sk-hidden--visually {border: 0;clip: rect(1px 1px 1px 1px);clip: rect(1px, 1px, 1px, 1px);height: 1px;margin: -1px;overflow: hidden;padding: 0;position: absolute;width: 1px;}#sk-container-id-1 div.sk-estimator {font-family: monospace;background-color: #f0f8ff;border: 1px dotted black;border-radius: 0.25em;box-sizing: border-box;margin-bottom: 0.5em;}#sk-container-id-1 div.sk-estimator:hover {background-color: #d4ebff;}#sk-container-id-1 div.sk-parallel-item::after {content: \"\";width: 100%;border-bottom: 1px solid gray;flex-grow: 1;}#sk-container-id-1 div.sk-label:hover label.sk-toggleable__label {background-color: #d4ebff;}#sk-container-id-1 div.sk-serial::before {content: \"\";position: absolute;border-left: 1px solid gray;box-sizing: border-box;top: 0;bottom: 0;left: 50%;z-index: 0;}#sk-container-id-1 div.sk-serial {display: flex;flex-direction: column;align-items: center;background-color: white;padding-right: 0.2em;padding-left: 0.2em;position: relative;}#sk-container-id-1 div.sk-item {position: relative;z-index: 1;}#sk-container-id-1 div.sk-parallel {display: flex;align-items: stretch;justify-content: center;background-color: white;position: relative;}#sk-container-id-1 div.sk-item::before, #sk-container-id-1 div.sk-parallel-item::before {content: \"\";position: absolute;border-left: 1px solid gray;box-sizing: border-box;top: 0;bottom: 0;left: 50%;z-index: -1;}#sk-container-id-1 div.sk-parallel-item {display: flex;flex-direction: column;z-index: 1;position: relative;background-color: white;}#sk-container-id-1 div.sk-parallel-item:first-child::after {align-self: flex-end;width: 50%;}#sk-container-id-1 div.sk-parallel-item:last-child::after {align-self: flex-start;width: 50%;}#sk-container-id-1 div.sk-parallel-item:only-child::after {width: 0;}#sk-container-id-1 div.sk-dashed-wrapped {border: 1px dashed gray;margin: 0 0.4em 0.5em 0.4em;box-sizing: border-box;padding-bottom: 0.4em;background-color: white;}#sk-container-id-1 div.sk-label label {font-family: monospace;font-weight: bold;display: inline-block;line-height: 1.2em;}#sk-container-id-1 div.sk-label-container {text-align: center;}#sk-container-id-1 div.sk-container {/* jupyter's `normalize.less` sets `[hidden] { display: none; }` but bootstrap.min.css set `[hidden] { display: none !important; }` so we also need the `!important` here to be able to override the default hidden behavior on the sphinx rendered scikit-learn.org. See: https://github.com/scikit-learn/scikit-learn/issues/21755 */display: inline-block !important;position: relative;}#sk-container-id-1 div.sk-text-repr-fallback {display: none;}</style><div id=\"sk-container-id-1\" class=\"sk-top-container\"><div class=\"sk-text-repr-fallback\"><pre>LinearRegression()</pre><b>In a Jupyter environment, please rerun this cell to show the HTML representation or trust the notebook. <br />On GitHub, the HTML representation is unable to render, please try loading this page with nbviewer.org.</b></div><div class=\"sk-container\" hidden><div class=\"sk-item\"><div class=\"sk-estimator sk-toggleable\"><input class=\"sk-toggleable__control sk-hidden--visually\" id=\"sk-estimator-id-1\" type=\"checkbox\" checked><label for=\"sk-estimator-id-1\" class=\"sk-toggleable__label sk-toggleable__label-arrow\">LinearRegression</label><div class=\"sk-toggleable__content\"><pre>LinearRegression()</pre></div></div></div></div></div>"
      ],
      "text/plain": [
       "LinearRegression()"
      ]
     },
     "execution_count": 23,
     "metadata": {},
     "output_type": "execute_result"
    }
   ],
   "source": [
    "# Fit the regression object onto the training set.\n",
    "regression.fit(X_train, y_train)"
   ]
  },
  {
   "cell_type": "code",
   "execution_count": 24,
   "id": "b3da9f98",
   "metadata": {},
   "outputs": [],
   "source": [
    "# Predict the values of y using X.\n",
    "y_predicted = regression.predict(X_test)"
   ]
  },
  {
   "cell_type": "code",
   "execution_count": 25,
   "id": "d02f6868",
   "metadata": {},
   "outputs": [
    {
     "data": {
      "image/png": "[encoded data removed]",
      "text/plain": [
       "<Figure size 432x288 with 1 Axes>"
      ]
     },
     "metadata": {
      "needs_background": "light"
     },
     "output_type": "display_data"
    }
   ],
   "source": [
    "# Create a plot that shows the regression line from the model on the test set.\n",
    "\n",
    "plot_test = plt\n",
    "plot_test.scatter(X_test, y_test, color='gray', s = 15)\n",
    "plot_test.plot(X_test, y_predicted, color='red', linewidth =3)\n",
    "plot_test.title('health_life_expectancy vs happiness_score (Test set)')\n",
    "plot_test.xlabel('health_life_expectancy')\n",
    "plot_test.ylabel('happiness_score')\n",
    "plot_test.show()"
   ]
  },
  {
   "cell_type": "code",
   "execution_count": 26,
   "id": "b786304d",
   "metadata": {},
   "outputs": [],
   "source": [
    "# Create objects that contain the model summary statistics.\n",
    "\n",
    "rmse = mean_squared_error(y_test, y_predicted) # This is the mean squared error\n",
    "r2 = r2_score(y_test, y_predicted) # This is the R2 score. "
   ]
  },
  {
   "cell_type": "code",
   "execution_count": 27,
   "id": "acc3cdef",
   "metadata": {},
   "outputs": [
    {
     "name": "stdout",
     "output_type": "stream",
     "text": [
      "Slope: [[3.3312843]]\n",
      "Mean squared error:  0.577605354931912\n",
      "R2 score:  0.5486323691092545\n"
     ]
    }
   ],
   "source": [
    "# Print the model summary statistics. This is where you evaluate the performance of the model.\n",
    "\n",
    "print('Slope:' ,regression.coef_)\n",
    "print('Mean squared error: ', rmse)\n",
    "print('R2 score: ', r2)"
   ]
  },
  {
   "cell_type": "markdown",
   "id": "385a6bd2",
   "metadata": {},
   "source": [
    "### Intepretation:\n",
    "#### The slope is positive, so the relationship is positive. This aligns with the hypothesis that If a country life expectancy score is higher, then the country is more likely to have a higher happiness score. The MSE is at 0.5776, it means the model could not be accurate. R2 score of 0.55 represents a moderate fit."
   ]
  },
  {
   "cell_type": "code",
   "execution_count": 28,
   "id": "9ec22bc4",
   "metadata": {},
   "outputs": [
    {
     "data": {
      "text/plain": [
       "array([[6.39099438],\n",
       "       [5.7998474 ],\n",
       "       [4.61821574],\n",
       "       [4.64983202],\n",
       "       [6.6666973 ],\n",
       "       [6.19833869],\n",
       "       [5.46932796],\n",
       "       [5.60584399],\n",
       "       [5.36938943],\n",
       "       [5.88906978],\n",
       "       [6.36580987],\n",
       "       [6.87512993],\n",
       "       [4.11339531],\n",
       "       [6.04227548],\n",
       "       [5.84003327],\n",
       "       [6.87512993],\n",
       "       [5.81245024],\n",
       "       [6.66636689],\n",
       "       [5.89240106],\n",
       "       [5.26278833],\n",
       "       [4.24674662],\n",
       "       [6.02898372],\n",
       "       [5.38943894],\n",
       "       [4.5319439 ],\n",
       "       [5.06291127],\n",
       "       [5.98900831],\n",
       "       [4.92109056],\n",
       "       [6.73802562],\n",
       "       [5.27278218],\n",
       "       [5.37938328],\n",
       "       [5.47932181],\n",
       "       [6.0956094 ],\n",
       "       [6.07229041],\n",
       "       [4.84637779],\n",
       "       [6.03042979],\n",
       "       [5.24765696],\n",
       "       [5.20948778],\n",
       "       [5.91101818],\n",
       "       [5.44671536],\n",
       "       [6.33213059],\n",
       "       [5.42602126],\n",
       "       [6.04243115],\n",
       "       [5.74805651],\n",
       "       [6.19554793],\n",
       "       [6.70560087],\n",
       "       [3.78702938],\n",
       "       [4.12210937],\n",
       "       [4.50325551],\n",
       "       [5.4300188 ],\n",
       "       [5.08623026],\n",
       "       [3.75371654],\n",
       "       [5.94823339],\n",
       "       [4.84637779],\n",
       "       [4.29022498],\n",
       "       [6.01898987],\n",
       "       [5.85532269],\n",
       "       [3.57715847],\n",
       "       [4.6331756 ],\n",
       "       [6.27216747],\n",
       "       [5.99057046],\n",
       "       [5.62589832],\n",
       "       [4.84877632],\n",
       "       [4.39665441],\n",
       "       [5.74582455],\n",
       "       [6.27479919],\n",
       "       [6.86513608],\n",
       "       [6.03564629],\n",
       "       [5.65921116],\n",
       "       [6.87024355],\n",
       "       [5.87379751],\n",
       "       [3.42246947],\n",
       "       [5.96535619],\n",
       "       [5.44934025],\n",
       "       [6.18073079],\n",
       "       [5.4393464 ],\n",
       "       [4.85437287],\n",
       "       [4.38878501],\n",
       "       [5.20540954],\n",
       "       [4.08351369],\n",
       "       [4.27546229],\n",
       "       [6.21886692],\n",
       "       [4.51543215],\n",
       "       [4.15000612],\n",
       "       [6.07229041],\n",
       "       [4.42330469],\n",
       "       [5.18616879],\n",
       "       [4.92632861],\n",
       "       [3.78589675],\n",
       "       [5.38507978],\n",
       "       [6.34878701],\n",
       "       [5.48152046],\n",
       "       [3.93360589],\n",
       "       [4.79307724],\n",
       "       [4.78424934],\n",
       "       [4.40331698],\n",
       "       [5.40816558],\n",
       "       [5.93570776],\n",
       "       [5.07135055],\n",
       "       [5.75328663],\n",
       "       [5.52833922],\n",
       "       [5.84149904],\n",
       "       [5.38604585],\n",
       "       [6.28882389],\n",
       "       [5.4393464 ],\n",
       "       [5.07350632],\n",
       "       [5.85269574],\n",
       "       [3.96025617],\n",
       "       [5.07290512],\n",
       "       [6.00566473],\n",
       "       [6.01898987],\n",
       "       [6.05446804],\n",
       "       [6.03068891],\n",
       "       [4.5465622 ],\n",
       "       [5.33358043],\n",
       "       [5.3960397 ],\n",
       "       [6.19897548],\n",
       "       [6.42997041],\n",
       "       [6.76232698],\n",
       "       [6.032315  ],\n",
       "       [6.24884848],\n",
       "       [5.72583685],\n",
       "       [6.15224124],\n",
       "       [6.33199734],\n",
       "       [4.41447678],\n",
       "       [6.03121946],\n",
       "       [4.76975825],\n",
       "       [5.45267153],\n",
       "       [6.86513608],\n",
       "       [5.5277068 ],\n",
       "       [4.66981972],\n",
       "       [4.03117921],\n",
       "       [5.85242565],\n",
       "       [5.45600282],\n",
       "       [4.05940769],\n",
       "       [4.49134552],\n",
       "       [5.7991251 ],\n",
       "       [6.04773885],\n",
       "       [6.05493442],\n",
       "       [5.39270842],\n",
       "       [5.77580611],\n",
       "       [6.39209371],\n",
       "       [4.89022848],\n",
       "       [5.10541846],\n",
       "       [5.9591118 ],\n",
       "       [3.74017424],\n",
       "       [5.03292971],\n",
       "       [6.09159144],\n",
       "       [3.98170964],\n",
       "       [5.46128172],\n",
       "       [3.88696791],\n",
       "       [5.14632663],\n",
       "       [5.54261621],\n",
       "       [4.29671588],\n",
       "       [6.66630931],\n",
       "       [4.10443415],\n",
       "       [5.28610732],\n",
       "       [5.37938328],\n",
       "       [5.80855264],\n",
       "       [6.44539426],\n",
       "       [5.7694703 ],\n",
       "       [5.80328921],\n",
       "       [5.86575079],\n",
       "       [5.85445773],\n",
       "       [4.67315101],\n",
       "       [6.76204264],\n",
       "       [5.692524  ],\n",
       "       [5.46527854],\n",
       "       [5.10621797],\n",
       "       [5.82244409],\n",
       "       [4.21010249],\n",
       "       [5.19949393],\n",
       "       [4.67981358],\n",
       "       [4.86097989],\n",
       "       [6.30548032],\n",
       "       [6.5835093 ],\n",
       "       [5.80911895],\n",
       "       [4.32776722],\n",
       "       [5.36988356],\n",
       "       [6.0956094 ],\n",
       "       [4.90364845],\n",
       "       [6.38876242],\n",
       "       [6.17423113],\n",
       "       [5.52159581],\n",
       "       [5.06381947],\n",
       "       [5.38937713],\n",
       "       [6.03238163],\n",
       "       [5.53711959],\n",
       "       [6.42873783],\n",
       "       [5.24613191],\n",
       "       [6.372106  ],\n",
       "       [6.46871325],\n",
       "       [6.07229041],\n",
       "       [6.5420015 ],\n",
       "       [5.52595979],\n",
       "       [6.0600646 ],\n",
       "       [6.14224738],\n",
       "       [5.6292296 ],\n",
       "       [5.97235189],\n",
       "       [5.68798087],\n",
       "       [5.72916813],\n",
       "       [4.3133723 ],\n",
       "       [5.35939557],\n",
       "       [3.40393169],\n",
       "       [4.31004102],\n",
       "       [5.47599052],\n",
       "       [5.90905748],\n",
       "       [5.99233959],\n",
       "       [5.3156225 ],\n",
       "       [5.92571391],\n",
       "       [6.12225968],\n",
       "       [5.7674779 ],\n",
       "       [4.53656835],\n",
       "       [5.46266539],\n",
       "       [6.44829247],\n",
       "       [5.29943246],\n",
       "       [4.53193787],\n",
       "       [4.40268404],\n",
       "       [5.13682334],\n",
       "       [4.38736957],\n",
       "       [4.8356624 ],\n",
       "       [6.10760203],\n",
       "       [5.69388983],\n",
       "       [5.63589217],\n",
       "       [6.27892998],\n",
       "       [6.76186626],\n",
       "       [4.70646385],\n",
       "       [6.01898987],\n",
       "       [6.29548646],\n",
       "       [3.42725068],\n",
       "       [5.54927878],\n",
       "       [5.05291742],\n",
       "       [6.4354004 ],\n",
       "       [5.04407526],\n",
       "       [4.67315101],\n",
       "       [5.79579382],\n",
       "       [4.10350139],\n",
       "       [3.9102869 ],\n",
       "       [6.5614562 ],\n",
       "       [4.65390721],\n",
       "       [3.57019609],\n",
       "       [5.22947549],\n",
       "       [6.88512378],\n",
       "       [6.11892839],\n",
       "       [3.75922793],\n",
       "       [6.24706711],\n",
       "       [5.89924297],\n",
       "       [3.40393169],\n",
       "       [3.92028076],\n",
       "       [5.55243745],\n",
       "       [5.63256089],\n",
       "       [4.56138642],\n",
       "       [4.5068533 ],\n",
       "       [5.85602344],\n",
       "       [4.60652532],\n",
       "       [4.92999677],\n",
       "       [5.53935949],\n",
       "       [6.29298312],\n",
       "       [3.94855005],\n",
       "       [5.72590347],\n",
       "       [5.49597823],\n",
       "       [4.59179634],\n",
       "       [5.17617494],\n",
       "       [4.27672818],\n",
       "       [6.07945268],\n",
       "       [5.74582455],\n",
       "       [5.93254304],\n",
       "       [4.96300291],\n",
       "       [5.81558165],\n",
       "       [6.34878701],\n",
       "       [5.77580611],\n",
       "       [6.13225353],\n",
       "       [5.52595979],\n",
       "       [5.7791374 ],\n",
       "       [4.48993037],\n",
       "       [5.81981238],\n",
       "       [5.32243148],\n",
       "       [4.36001028],\n",
       "       [6.11892839],\n",
       "       [5.70251786],\n",
       "       [3.66710315],\n",
       "       [5.76581226],\n",
       "       [5.61923575],\n",
       "       [6.25884234],\n",
       "       [5.18616879],\n",
       "       [4.74663914],\n",
       "       [6.07926364],\n",
       "       [4.18921534],\n",
       "       [5.34607044],\n",
       "       [3.82693817],\n",
       "       [6.73188471],\n",
       "       [4.18672194],\n",
       "       [3.40393169],\n",
       "       [6.29561464],\n",
       "       [5.32941402],\n",
       "       [5.61923575],\n",
       "       [4.89967834],\n",
       "       [5.98330058],\n",
       "       [5.67118647],\n",
       "       [5.39937099],\n",
       "       [4.05769623],\n",
       "       [5.98567702],\n",
       "       [4.04353827],\n",
       "       [6.69524058],\n",
       "       [5.63006242],\n",
       "       [6.09946593],\n",
       "       [6.73832584],\n",
       "       [4.3133723 ],\n",
       "       [5.20412441],\n",
       "       [6.08673466],\n",
       "       [5.72620329],\n",
       "       [5.24946319],\n",
       "       [4.87861748],\n",
       "       [4.30400991],\n",
       "       [5.47265924],\n",
       "       [6.31547417],\n",
       "       [5.76581226],\n",
       "       [6.13421899],\n",
       "       [6.49203224],\n",
       "       [5.72380476],\n",
       "       [5.16914593],\n",
       "       [3.93717037],\n",
       "       [4.94298504],\n",
       "       [6.53412413],\n",
       "       [5.4593341 ],\n",
       "       [6.05370579],\n",
       "       [4.22711059],\n",
       "       [5.8170141 ],\n",
       "       [6.06229656],\n",
       "       [5.09622411],\n",
       "       [4.99961687],\n",
       "       [5.33607658],\n",
       "       [5.59258547],\n",
       "       [4.63244271],\n",
       "       [4.36986234],\n",
       "       [4.56161961],\n",
       "       [6.32213674],\n",
       "       [6.43206912],\n",
       "       [5.51596594],\n",
       "       [6.31760619],\n",
       "       [4.59320018],\n",
       "       [5.71963094],\n",
       "       [4.6531633 ],\n",
       "       [5.76364692],\n",
       "       [5.94699884],\n",
       "       [5.40999605],\n",
       "       [5.36240817],\n",
       "       [6.01898987],\n",
       "       [5.75248712],\n",
       "       [5.5337323 ],\n",
       "       [5.53595364],\n",
       "       [4.97083457],\n",
       "       [5.64888418],\n",
       "       [4.58320633],\n",
       "       [5.06291127],\n",
       "       [5.576492  ],\n",
       "       [4.10326891],\n",
       "       [6.81017637],\n",
       "       [5.41935869],\n",
       "       [5.9560921 ],\n",
       "       [4.2500779 ],\n",
       "       [5.91238877],\n",
       "       [5.15645373],\n",
       "       [5.48642022],\n",
       "       [6.48057262],\n",
       "       [5.62744628],\n",
       "       [6.82182938],\n",
       "       [6.81052861],\n",
       "       [4.55582317],\n",
       "       [5.45267153]])"
      ]
     },
     "execution_count": 28,
     "metadata": {},
     "output_type": "execute_result"
    }
   ],
   "source": [
    "y_predicted"
   ]
  },
  {
   "cell_type": "code",
   "execution_count": 29,
   "id": "13d837ad",
   "metadata": {},
   "outputs": [
    {
     "data": {
      "text/html": [
       "<div>\n",
       "<style scoped>\n",
       "    .dataframe tbody tr th:only-of-type {\n",
       "        vertical-align: middle;\n",
       "    }\n",
       "\n",
       "    .dataframe tbody tr th {\n",
       "        vertical-align: top;\n",
       "    }\n",
       "\n",
       "    .dataframe thead th {\n",
       "        text-align: right;\n",
       "    }\n",
       "</style>\n",
       "<table border=\"1\" class=\"dataframe\">\n",
       "  <thead>\n",
       "    <tr style=\"text-align: right;\">\n",
       "      <th></th>\n",
       "      <th>Actual</th>\n",
       "      <th>Predicted</th>\n",
       "    </tr>\n",
       "  </thead>\n",
       "  <tbody>\n",
       "    <tr>\n",
       "      <th>0</th>\n",
       "      <td>6.9370</td>\n",
       "      <td>6.390994</td>\n",
       "    </tr>\n",
       "    <tr>\n",
       "      <th>1</th>\n",
       "      <td>6.4540</td>\n",
       "      <td>5.799847</td>\n",
       "    </tr>\n",
       "    <tr>\n",
       "      <th>2</th>\n",
       "      <td>3.3490</td>\n",
       "      <td>4.618216</td>\n",
       "    </tr>\n",
       "    <tr>\n",
       "      <th>3</th>\n",
       "      <td>4.5160</td>\n",
       "      <td>4.649832</td>\n",
       "    </tr>\n",
       "    <tr>\n",
       "      <th>4</th>\n",
       "      <td>5.5150</td>\n",
       "      <td>6.666697</td>\n",
       "    </tr>\n",
       "    <tr>\n",
       "      <th>5</th>\n",
       "      <td>5.9252</td>\n",
       "      <td>6.198339</td>\n",
       "    </tr>\n",
       "    <tr>\n",
       "      <th>6</th>\n",
       "      <td>5.7110</td>\n",
       "      <td>5.469328</td>\n",
       "    </tr>\n",
       "    <tr>\n",
       "      <th>7</th>\n",
       "      <td>5.8780</td>\n",
       "      <td>5.605844</td>\n",
       "    </tr>\n",
       "    <tr>\n",
       "      <th>8</th>\n",
       "      <td>4.5960</td>\n",
       "      <td>5.369389</td>\n",
       "    </tr>\n",
       "    <tr>\n",
       "      <th>9</th>\n",
       "      <td>6.4360</td>\n",
       "      <td>5.889070</td>\n",
       "    </tr>\n",
       "    <tr>\n",
       "      <th>10</th>\n",
       "      <td>7.4060</td>\n",
       "      <td>6.365810</td>\n",
       "    </tr>\n",
       "    <tr>\n",
       "      <th>11</th>\n",
       "      <td>5.7180</td>\n",
       "      <td>6.875130</td>\n",
       "    </tr>\n",
       "    <tr>\n",
       "      <th>12</th>\n",
       "      <td>3.7390</td>\n",
       "      <td>4.113395</td>\n",
       "    </tr>\n",
       "    <tr>\n",
       "      <th>13</th>\n",
       "      <td>5.9532</td>\n",
       "      <td>6.042275</td>\n",
       "    </tr>\n",
       "    <tr>\n",
       "      <th>14</th>\n",
       "      <td>5.8330</td>\n",
       "      <td>5.840033</td>\n",
       "    </tr>\n",
       "    <tr>\n",
       "      <th>15</th>\n",
       "      <td>6.0460</td>\n",
       "      <td>6.875130</td>\n",
       "    </tr>\n",
       "    <tr>\n",
       "      <th>16</th>\n",
       "      <td>5.2610</td>\n",
       "      <td>5.812450</td>\n",
       "    </tr>\n",
       "    <tr>\n",
       "      <th>17</th>\n",
       "      <td>7.6456</td>\n",
       "      <td>6.666367</td>\n",
       "    </tr>\n",
       "    <tr>\n",
       "      <th>18</th>\n",
       "      <td>6.1060</td>\n",
       "      <td>5.892401</td>\n",
       "    </tr>\n",
       "    <tr>\n",
       "      <th>19</th>\n",
       "      <td>4.9180</td>\n",
       "      <td>5.262788</td>\n",
       "    </tr>\n",
       "    <tr>\n",
       "      <th>20</th>\n",
       "      <td>3.9990</td>\n",
       "      <td>4.246747</td>\n",
       "    </tr>\n",
       "    <tr>\n",
       "      <th>21</th>\n",
       "      <td>7.1570</td>\n",
       "      <td>6.028984</td>\n",
       "    </tr>\n",
       "    <tr>\n",
       "      <th>22</th>\n",
       "      <td>6.0030</td>\n",
       "      <td>5.389439</td>\n",
       "    </tr>\n",
       "    <tr>\n",
       "      <th>23</th>\n",
       "      <td>4.5740</td>\n",
       "      <td>4.531944</td>\n",
       "    </tr>\n",
       "    <tr>\n",
       "      <th>24</th>\n",
       "      <td>5.4660</td>\n",
       "      <td>5.062911</td>\n",
       "    </tr>\n",
       "    <tr>\n",
       "      <th>25</th>\n",
       "      <td>7.0340</td>\n",
       "      <td>5.989008</td>\n",
       "    </tr>\n",
       "    <tr>\n",
       "      <th>26</th>\n",
       "      <td>4.3150</td>\n",
       "      <td>4.921091</td>\n",
       "    </tr>\n",
       "    <tr>\n",
       "      <th>27</th>\n",
       "      <td>7.5045</td>\n",
       "      <td>6.738026</td>\n",
       "    </tr>\n",
       "    <tr>\n",
       "      <th>28</th>\n",
       "      <td>4.7210</td>\n",
       "      <td>5.272782</td>\n",
       "    </tr>\n",
       "    <tr>\n",
       "      <th>29</th>\n",
       "      <td>4.3250</td>\n",
       "      <td>5.379383</td>\n",
       "    </tr>\n",
       "  </tbody>\n",
       "</table>\n",
       "</div>"
      ],
      "text/plain": [
       "    Actual  Predicted\n",
       "0   6.9370   6.390994\n",
       "1   6.4540   5.799847\n",
       "2   3.3490   4.618216\n",
       "3   4.5160   4.649832\n",
       "4   5.5150   6.666697\n",
       "5   5.9252   6.198339\n",
       "6   5.7110   5.469328\n",
       "7   5.8780   5.605844\n",
       "8   4.5960   5.369389\n",
       "9   6.4360   5.889070\n",
       "10  7.4060   6.365810\n",
       "11  5.7180   6.875130\n",
       "12  3.7390   4.113395\n",
       "13  5.9532   6.042275\n",
       "14  5.8330   5.840033\n",
       "15  6.0460   6.875130\n",
       "16  5.2610   5.812450\n",
       "17  7.6456   6.666367\n",
       "18  6.1060   5.892401\n",
       "19  4.9180   5.262788\n",
       "20  3.9990   4.246747\n",
       "21  7.1570   6.028984\n",
       "22  6.0030   5.389439\n",
       "23  4.5740   4.531944\n",
       "24  5.4660   5.062911\n",
       "25  7.0340   5.989008\n",
       "26  4.3150   4.921091\n",
       "27  7.5045   6.738026\n",
       "28  4.7210   5.272782\n",
       "29  4.3250   5.379383"
      ]
     },
     "execution_count": 29,
     "metadata": {},
     "output_type": "execute_result"
    }
   ],
   "source": [
    "# Create a dataframe comparing the actual and predicted values of y.\n",
    "data = pd.DataFrame({'Actual': y_test.flatten(), 'Predicted': y_predicted.flatten()})\n",
    "data.head(30)"
   ]
  },
  {
   "cell_type": "markdown",
   "id": "384b83a7",
   "metadata": {},
   "source": [
    "### Compare how the regression fits the training set"
   ]
  },
  {
   "cell_type": "code",
   "execution_count": 30,
   "id": "675ba7f4",
   "metadata": {},
   "outputs": [],
   "source": [
    "# Predict.\n",
    "\n",
    "y_predicted_train = regression.predict(X_train) # This is predicting X_train!"
   ]
  },
  {
   "cell_type": "code",
   "execution_count": 31,
   "id": "efbce26e",
   "metadata": {},
   "outputs": [],
   "source": [
    "rmse = mean_squared_error(y_train, y_predicted_train)\n",
    "r2 = r2_score(y_train, y_predicted_train)"
   ]
  },
  {
   "cell_type": "code",
   "execution_count": 32,
   "id": "04ea4d26",
   "metadata": {},
   "outputs": [
    {
     "name": "stdout",
     "output_type": "stream",
     "text": [
      "Slope: [[3.3312843]]\n",
      "Mean squared error:  0.5884867617272092\n",
      "R2 score:  0.5205547065147285\n"
     ]
    }
   ],
   "source": [
    "print('Slope:' ,regression.coef_)\n",
    "print('Mean squared error: ', rmse)\n",
    "print('R2 score: ', r2)"
   ]
  },
  {
   "cell_type": "markdown",
   "id": "dc567376",
   "metadata": {},
   "source": [
    "#### The values are identical to the model. Positive relationship, MSE 0.59 and a modertae R2. The model is not overfitted. This all indicates that the life expectancy is correlated positively with the happiness score. However, there are other variances in the data that would be considered in determining the happiness score."
   ]
  },
  {
   "cell_type": "code",
   "execution_count": 33,
   "id": "066d4bf8",
   "metadata": {},
   "outputs": [
    {
     "data": {
      "image/png": "[encoded data removed]",
      "text/plain": [
       "<Figure size 432x288 with 1 Axes>"
      ]
     },
     "metadata": {
      "needs_background": "light"
     },
     "output_type": "display_data"
    }
   ],
   "source": [
    "# Visualizing the training set results.\n",
    "\n",
    "plot_test = plt\n",
    "plot_test.scatter(X_train, y_train, color='green', s = 15)\n",
    "plot_test.plot(X_train, y_predicted_train, color='red', linewidth =3)\n",
    "plot_test.title('health_life_expectancy vs happiness_score (Train set)')\n",
    "plot_test.xlabel('health_life_expectancy')\n",
    "plot_test.ylabel('happiness_score')\n",
    "plot_test.show()"
   ]
  },
  {
   "cell_type": "code",
   "execution_count": null,
   "id": "636835c4",
   "metadata": {},
   "outputs": [],
   "source": []
  }
 ],
 "metadata": {
  "kernelspec": {
   "display_name": "Python 3 (ipykernel)",
   "language": "python",
   "name": "python3"
  },
  "language_info": {
   "codemirror_mode": {
    "name": "ipython",
    "version": 3
   },
   "file_extension": ".py",
   "mimetype": "text/x-python",
   "name": "python",
   "nbconvert_exporter": "python",
   "pygments_lexer": "ipython3",
   "version": "3.9.12"
  }
 },
 "nbformat": 4,
 "nbformat_minor": 5
}
